{
 "cells": [
  {
   "cell_type": "markdown",
   "metadata": {},
   "source": [
    "# BCI Python Project\n",
    "\n",
    "Converting BCI project from BE521"
   ]
  },
  {
   "cell_type": "markdown",
   "metadata": {},
   "source": [
    "### 1. Load in subject data\n",
    "\n",
    "3 files loaded in from BCI Competition Website. Dataset 4.   \n",
    "\n",
    "    1. sub1_comp.mat\n",
    "    2. sub2_comp.mat\n",
    "    3. sub3_comp.mat\n",
    "\n",
    "Each file contains train_data, test_data, train_dg "
   ]
  },
  {
   "cell_type": "code",
   "execution_count": null,
   "metadata": {},
   "outputs": [],
   "source": [
    "import scipy.io as sio \n",
    "import numpy as np\n",
    "import math\n",
    "from scipy import signal\n",
    "from matplotlib import pyplot as plt\n"
   ]
  },
  {
   "cell_type": "code",
   "execution_count": null,
   "metadata": {},
   "outputs": [],
   "source": [
    "sub1 = sio.loadmat('BCICIV_4_mat/sub1_comp.mat')"
   ]
  },
  {
   "cell_type": "markdown",
   "metadata": {},
   "source": [
    "The cell above loads displays the output of the mat file. It loads as a dictionary and we can access the training data with the code below:"
   ]
  },
  {
   "cell_type": "code",
   "execution_count": null,
   "metadata": {},
   "outputs": [],
   "source": [
    "train1 = sub1['train_data']\n",
    "train1.shape"
   ]
  },
  {
   "cell_type": "markdown",
   "metadata": {},
   "source": [
    "## A Simple Method  \n",
    "\n",
    "1. Use a moving window 100 ms in length with 50 ms overlap and extract the same 6 features over each of the channels. Features were:  \n",
    "    1. Average time-domain voltage  \n",
    "    2. Average Frequency-domain magnitude in   \n",
    "       5-15 Hz    \n",
    "    3. 20-25 Hz  \n",
    "    4. 75-115 Hz  \n",
    "    5. 125-160 Hz  \n",
    "    6. 160-175 Hz\n",
    "\n",
    "2. Downsample dataglove traces so that each sample was separated by 50 ms, to keep them on the same time scale as the features\n",
    "\n",
    "3. Used a linear regression to predict downampled finger flextion from all the EEG features from the previous 3 time windows (150 ms lag)\n",
    "\n",
    "4. interpolate the prediction using a cubic spline back up to the riginal 1000 Hz sampling frequency, making sure that the first and last points in the data interpolaion were values we know. The interpolation was zero-padded at the beginning and end to time-align with the original flexion trace\n",
    "\n",
    "First let's take a look at some plots of the training data and the data glove traces"
   ]
  },
  {
   "cell_type": "markdown",
   "metadata": {},
   "source": [
    "Use a moving window to calculate the 6 features above. "
   ]
  },
  {
   "cell_type": "code",
   "execution_count": null,
   "metadata": {},
   "outputs": [],
   "source": [
    "# Calculate moving window average\n",
    "channel1 = train1[:,4]\n",
    "window_length = 100 \n",
    "window = np.ones([window_length,])\n",
    "avg_channel1 = np.convolve(channel1, window/window_length, 'valid')  #  moving window average\n",
    "avg_channel1_downsampled = avg_channel1[::50]"
   ]
  },
  {
   "cell_type": "code",
   "execution_count": null,
   "metadata": {},
   "outputs": [],
   "source": [
    "# Creating a time vector\n",
    "t = np.arange(50,400000,50)"
   ]
  },
  {
   "cell_type": "code",
   "execution_count": null,
   "metadata": {},
   "outputs": [],
   "source": [
    "plt.plot(channel1[0:500])\n",
    "plt.plot(t[0:10],avg_channel1[0:500:50])\n",
    "plt.show()"
   ]
  },
  {
   "cell_type": "code",
   "execution_count": null,
   "metadata": {},
   "outputs": [],
   "source": [
    "fs = 1000\n",
    "stride = 50 #steps 50 samples at a time for 100 sample window (50% overlap)\n",
    "X = channel1\n",
    "plt.figure(1)\n",
    "plt.subplot(2,1,1)\n",
    "plt.plot(X)                             #plot first 5000 samples of single channel\n",
    "plt.plot(t, avg_channel1[::50])  #plot moving window average \n",
    "plt.xlabel('samples')\n",
    "plt.ylabel('ECoG signal')\n",
    "plt.subplot(2,1,2)\n",
    "plt.plot(X[:5000])\n",
    "plt.plot(t[0:100], avg_channel1[:5000:50])\n",
    "plt.xlabel('samples')\n",
    "plt.ylabel('ECoG signal')\n",
    "plt.show()\n"
   ]
  },
  {
   "cell_type": "code",
   "execution_count": null,
   "metadata": {},
   "outputs": [],
   "source": [
    "X = channel1\n",
    "f, t, Sxx = signal.spectrogram(X[0:500], fs, nperseg=100, noverlap=50, nfft=128) #Sxx has dimesnsions 65 (taken from spectrogram) by (400,000/50)-1 = 7999\n"
   ]
  },
  {
   "cell_type": "code",
   "execution_count": null,
   "metadata": {},
   "outputs": [],
   "source": [
    "# figure plotting taking a long time. ECOG signals are already bandpassed filtered up to 200 Hz so no need to plot that data\n",
    "f_bandpassed = f[f<200]\n",
    "nbands = f_bandpassed.shape[0]"
   ]
  },
  {
   "cell_type": "code",
   "execution_count": null,
   "metadata": {},
   "outputs": [],
   "source": [
    "plt.figure(1)\n",
    "plt.pcolormesh(t,f[f<200], Sxx[:nbands, :])\n",
    "plt.ylabel('Frequency (Hz')\n",
    "plt.xlabel('Time (sec)')\n",
    "plt.show()\n"
   ]
  },
  {
   "cell_type": "markdown",
   "metadata": {},
   "source": [
    "### Next Steps\n",
    "- generate the 6 features for a single channel \n",
    "- check dimensions \n",
    "- generate all 6 features for 1 subject\n",
    "- downsample data glove trace\n",
    "- linear regression\n",
    "- interpolate back to 1000 hz\n"
   ]
  },
  {
   "cell_type": "code",
   "execution_count": null,
   "metadata": {},
   "outputs": [],
   "source": [
    "# Specified frequency bands for spectrogram calculation\n",
    "fbands = np.array([[5,15],[20,25],[75,115],[125,160],[160,175]])\n",
    "\n",
    "fband_mean = np.zeros([fbands.shape[0], Sxx.shape[1] ]) #initialize mean frequency band amplitude (dimensions are number of bands x number of windows)\n",
    "\n",
    "# Get average frequency domain magnitude for specified frequency bands\n",
    "for row in np.arange(fbands.shape[0]):\n",
    "    print(fbands[row,:])\n",
    "    fband_mean[row, :] = np.mean(Sxx[(f >= fbands[row,0]) & (f <= fbands[row,1]),:], axis=0)\n",
    "    print(fband_mean[row,:])"
   ]
  },
  {
   "cell_type": "code",
   "execution_count": 55,
   "metadata": {},
   "outputs": [],
   "source": [
    "# Define feature extraction function for each ECoG Channel\n",
    "def ecog_features(channel, fs, window_length, stride_length):\n",
    "    # Moving window average using convolution\n",
    "    window = np.ones([window_length,]) \n",
    "    avg_channel = np.convolve(channel, window/window_length, 'valid')  #  moving window average\n",
    "    mean_voltage = avg_channel[::50] # Only take points that match the stride length\n",
    "\n",
    "    next_power2 = 2**math.ceil(math.log2(window_length)) # Calculate next larger power of 2 of window length for FFT calc\n",
    "    # Calculate spectrogram\n",
    "    f, t, Sxx = signal.spectrogram(channel, fs, nperseg=window_length, noverlap=stride_length, nfft=next_power2) #Sxx has dimesnsions 65 (taken from spectrogram) by (400,000/50)-1 = 7999\n",
    "\n",
    "    fbands = np.array([[5,15],[20,25],[75,115],[125,160],[160,175]]) # define frequency bands\n",
    "    fband_mean = np.zeros([fbands.shape[0], Sxx.shape[1] ]) #initialize mean frequency band amplitude (dimensions are number of bands x number of windows)\n",
    "\n",
    "    for row in np.arange(fbands.shape[0]):\n",
    "        fband_mean[row, :] = np.mean(Sxx[(f >= fbands[row,0]) & (f <= fbands[row,1]),:], axis=0)\n",
    "\n",
    "    feature_matrix = np.column_stack((mean_voltage, fband_mean.T))\n",
    "\n",
    "    return feature_matrix\n"
   ]
  },
  {
   "cell_type": "code",
   "execution_count": 56,
   "metadata": {},
   "outputs": [],
   "source": [
    "channel = train1[:,0]\n",
    "fs = 1000\n",
    "window_length = 100\n",
    "stride_length = 50"
   ]
  },
  {
   "cell_type": "code",
   "execution_count": 58,
   "metadata": {},
   "outputs": [
    {
     "output_type": "execute_result",
     "data": {
      "text/plain": "(7999, 6)"
     },
     "metadata": {},
     "execution_count": 58
    }
   ],
   "source": [
    "feature_test = ecog_features(channel, fs, window_length, stride_length)\n",
    "feature_test.shape"
   ]
  }
 ],
 "metadata": {
  "language_info": {
   "codemirror_mode": {
    "name": "ipython",
    "version": 3
   },
   "file_extension": ".py",
   "mimetype": "text/x-python",
   "name": "python",
   "nbconvert_exporter": "python",
   "pygments_lexer": "ipython3",
   "version": "3.7.2-final"
  },
  "orig_nbformat": 2,
  "kernelspec": {
   "name": "python3",
   "display_name": "Python 3"
  }
 },
 "nbformat": 4,
 "nbformat_minor": 2
}