{
 "cells": [
  {
   "cell_type": "markdown",
   "metadata": {},
   "source": [
    "# BCI Python Project\n",
    "\n",
    "Converting BCI project from BE521"
   ]
  },
  {
   "cell_type": "markdown",
   "metadata": {},
   "source": [
    "### 1. Load in subject data\n",
    "\n",
    "3 files loaded in from BCI Competition Website. Dataset 4.   \n",
    "\n",
    "    1. sub1_comp.mat\n",
    "    2. sub2_comp.mat\n",
    "    3. sub3_comp.mat\n",
    "\n",
    "Each file contains train_data, test_data, train_dg "
   ]
  },
  {
   "cell_type": "code",
   "execution_count": 5,
   "metadata": {},
   "outputs": [],
   "source": [
    "import scipy.io as sio \n",
    "import pandas as pd\n",
    "import numpy as np\n",
    "import matplotlib import pyplot as plt\n"
   ]
  },
  {
   "cell_type": "code",
   "execution_count": 10,
   "metadata": {},
   "outputs": [
    {
     "output_type": "execute_result",
     "data": {
      "text/plain": "{'__header__': b'MATLAB 5.0 MAT-file, Platform: GLNXA64, Created on: Wed Jul 23 16:48:22 2008',\n '__version__': '1.0',\n '__globals__': [],\n 'train_data': array([[  193,  -491, -4293, ...,  1827,  3096,  2395],\n        [   96,  -451, -4419, ...,  1794,  3120,  2497],\n        [  329,  -272, -4380, ...,  1668,  3236,  2569],\n        ...,\n        [ 1047,  -588,  1257, ...,  3559,  2951,  1856],\n        [  841,  -834,   962, ...,  3342,  2703,  2135],\n        [  672, -1009,   563, ...,  3131,  2515,  2187]], dtype=int32),\n 'test_data': array([[  389, -1214,   112, ...,  2829,  2215,  1900],\n        [  -99, -1495,  -258, ...,  2482,  1834,  1207],\n        [ -501, -1661,  -265, ...,  2331,  1638,   347],\n        ...,\n        [ 1979,  4323,  -744, ...,   305, -1002, -1931],\n        [ 2259,  4593,  -660, ...,   256,  -828, -1891],\n        [ 2460,  4623,  -641, ...,   154,  -662, -1981]], dtype=int16),\n 'train_dg': array([[-0.40011286,  0.1732757 ,  0.99956459, -0.06184273,  0.41964019],\n        [-0.40011286,  0.1732757 ,  0.99956459, -0.06184273,  0.41964019],\n        [-0.40011286,  0.1732757 ,  0.99956459, -0.06184273,  0.41964019],\n        ...,\n        [-0.61251224, -0.34792878, -0.21741923, -0.17560933, -0.07191979],\n        [-0.61251224, -0.34792878, -0.21741923, -0.17560933, -0.07191979],\n        [-0.61251224, -0.34792878, -0.21741923, -0.17560933, -0.07191979]])}"
     },
     "metadata": {},
     "execution_count": 10
    }
   ],
   "source": [
    "sub1 = sio.loadmat('BCICIV_4_mat/sub1_comp.mat')\n",
    "sub1"
   ]
  },
  {
   "cell_type": "markdown",
   "metadata": {},
   "source": [
    "The cell above loads displays the output of the mat file. It loads as a dictionary and we can access the training data with the code below:"
   ]
  },
  {
   "cell_type": "code",
   "execution_count": 16,
   "metadata": {},
   "outputs": [
    {
     "output_type": "execute_result",
     "data": {
      "text/plain": "array([[  193,  -491, -4293, ...,  1827,  3096,  2395],\n       [   96,  -451, -4419, ...,  1794,  3120,  2497],\n       [  329,  -272, -4380, ...,  1668,  3236,  2569],\n       ...,\n       [ 1047,  -588,  1257, ...,  3559,  2951,  1856],\n       [  841,  -834,   962, ...,  3342,  2703,  2135],\n       [  672, -1009,   563, ...,  3131,  2515,  2187]], dtype=int32)"
     },
     "metadata": {},
     "execution_count": 16
    }
   ],
   "source": [
    "train1 = sub1['train_data']\n",
    "train1 "
   ]
  },
  {
   "cell_type": "code",
   "execution_count": 17,
   "metadata": {},
   "outputs": [
    {
     "output_type": "execute_result",
     "data": {
      "text/plain": "(400000, 62)"
     },
     "metadata": {},
     "execution_count": 17
    }
   ],
   "source": [
    "train1.shape"
   ]
  },
  {
   "cell_type": "markdown",
   "metadata": {},
   "source": [
    "## A Simple Method  \n",
    "\n",
    "1. Use a moving window 100 ms in length with 50 ms overlap and extract the same 6 features over each of the channels. Features were:  \n",
    "    1. Average time-domain voltage  \n",
    "    2. Average Frequency-domain magnitude in   \n",
    "       5-15 Hz    \n",
    "    3. 20-25 Hz  \n",
    "    4. 75-115 Hz  \n",
    "    5. 125-160 Hz  \n",
    "    6. 160-175 Hz\n",
    "\n",
    "2. Downsample dataglove traces so that each sample was separated by 50 ms, to keep them on the same time scale as the features\n",
    "\n",
    "3. Used a linear regression to predict downampled finger flextion from all the EEG features from the previous 3 time windows (150 ms lag)\n",
    "\n",
    "4. interpolate the prediction using a cubic spline back up to the riginal 1000 Hz sampling frequency, making sure that the first and last points in the data interpolaion were values we know. The interpolation was zero-padded at the beginning and end to time-align with the original flexion trace\n",
    "\n",
    "First let's take a look at some plots of the training data and the data glove traces"
   ]
  },
  {
   "cell_type": "code",
   "execution_count": null,
   "metadata": {},
   "outputs": [],
   "source": []
  }
 ],
 "metadata": {
  "language_info": {
   "codemirror_mode": {
    "name": "ipython",
    "version": 3
   },
   "file_extension": ".py",
   "mimetype": "text/x-python",
   "name": "python",
   "nbconvert_exporter": "python",
   "pygments_lexer": "ipython3",
   "version": "3.7.0-final"
  },
  "orig_nbformat": 2,
  "kernelspec": {
   "name": "python3",
   "display_name": "Python 3"
  }
 },
 "nbformat": 4,
 "nbformat_minor": 2
}